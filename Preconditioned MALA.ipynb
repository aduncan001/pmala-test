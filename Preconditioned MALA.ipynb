{
 "cells": [
  {
   "cell_type": "code",
   "execution_count": 56,
   "metadata": {
    "collapsed": false
   },
   "outputs": [],
   "source": [
    "using Iterators;\n",
    "using Plots\n",
    "using Distributions;\n",
    "using PlotlyJS;"
   ]
  },
  {
   "cell_type": "code",
   "execution_count": 53,
   "metadata": {
    "collapsed": false
   },
   "outputs": [],
   "source": [
    "plotlyjs();"
   ]
  },
  {
   "cell_type": "markdown",
   "metadata": {},
   "source": [
    "## Helper functions"
   ]
  },
  {
   "cell_type": "code",
   "execution_count": 3,
   "metadata": {
    "collapsed": true
   },
   "outputs": [],
   "source": [
    "@everywhere function mcvar_bm(x::Vector{Float64}; batchlen::Int=100)\n",
    "  nbatches = div(length(x), batchlen)\n",
    "  @assert nbatches > 1 \"Choose batch size such that the number of batches is greather than one\"\n",
    "  nbsamples = nbatches*batchlen\n",
    "  batchmeans = Float64[mean(x[((j-1)*batchlen+1):(j*batchlen)]) for j = 1:nbatches]\n",
    "  return batchlen*var(batchmeans)/nbsamples\n",
    "end\n",
    "\n",
    "@everywhere mcvar_iid(x) = var(x)/length(x)\n",
    "\n",
    "@everywhere function ess(x)\n",
    "  return length(x)*mcvar_iid(x)/mcvar_bm(x)\n",
    "end "
   ]
  },
  {
   "cell_type": "markdown",
   "metadata": {},
   "source": [
    "## Model Definition"
   ]
  },
  {
   "cell_type": "markdown",
   "metadata": {},
   "source": [
    "We consider a simple $d$ dimensional mass spring model consisting of a regular mesh of $(M+1)^d$ points in $\\mathbb{R}$, with the displacement at edges $0$ and $M+1$ fixed.  The vector $(u_{\\alpha})_{\\alpha} \\in \\mathbb{R}^N$, for $N = M^d$ defines the out-of-plane displacement for the remaining points.  We assume a simple quadratic potential energy of the form\n",
    "$$\n",
    "    E_N(u) = \\frac{1}{2}\\sum_{\\alpha \\sim \\beta} |u_\\alpha  - u_{\\beta}|^2 = \\frac{1}{2} u\\cdot H u,\n",
    "$$\n",
    "where $H$ is the Laplacian defined on the regular mesh $\\lbrace 1 ,\\ldots, M \\rbrace^{d}$ with zero boundary conditions.  Given $M$ and dimension $d$, the matrix $H$ is constructed by the follwoing functions."
   ]
  },
  {
   "cell_type": "code",
   "execution_count": 4,
   "metadata": {
    "collapsed": false
   },
   "outputs": [],
   "source": [
    "@everywhere function get_laplacian_index(p, M::Int64, d::Int64)\n",
    "    return sum([p[i]*M^(i-1) for i in 1:d])\n",
    "end\n",
    "\n",
    "@everywhere function brutal_laplacian(M::Int64, d::Int64)\n",
    "    dirs = speye(Int, d)\n",
    "    L = zeros(M^d)\n",
    "\n",
    "    I = Int64[]\n",
    "    J = Int64[]\n",
    "    V = Float64[]\n",
    "    for p in product([collect(0:M-1) for k=1:d]...)\n",
    "        index = get_laplacian_index(p, M, d)\n",
    "\n",
    "        for j in 1:d\n",
    "            for sign in (+1, -1)\n",
    "                pnew = [p[i] + sign*dirs[i,j] for i in 1:d]\n",
    "                if all(0.<= pnew .<=M-1)\n",
    "                    #Calculate indices\n",
    "                    new_index = get_laplacian_index(pnew, M, d)\n",
    "\n",
    "                    #Add matrix entries\n",
    "                    push!(I, index+1)\n",
    "                    push!(J, new_index+1)\n",
    "                    push!(V, -1)\n",
    "                end\n",
    "                \n",
    "                push!(I, index+1)\n",
    "                push!(J, index+1)            \n",
    "                push!(V, 1)\n",
    "            end\n",
    "        end\n",
    "    end\n",
    "    return sparse(I,J,V)\n",
    "end"
   ]
  },
  {
   "cell_type": "code",
   "execution_count": 5,
   "metadata": {
    "collapsed": false
   },
   "outputs": [],
   "source": [
    "@everywhere function generatePotentialFunctions(H)\n",
    "    pot = function (x) return 0.5*dot(x, H*x) end\n",
    "    gradPot = function (x) return H*x   end\n",
    "    return pot, gradPot\n",
    "end"
   ]
  },
  {
   "cell_type": "markdown",
   "metadata": {},
   "source": [
    "## Spectrum of $H$"
   ]
  },
  {
   "cell_type": "markdown",
   "metadata": {},
   "source": [
    "The spectrum of $H$ satisfies the scaling $\\lambda_j \\sim \\frac{j^{2/d}}{M^2}$, for $j\\in \\mathbb{N}$.  In particular, the smallest eigenvalue is $M^{-2}$, and $\\sigma(H)\\subset [0,1]$, attaining both limits."
   ]
  },
  {
   "cell_type": "code",
   "execution_count": 54,
   "metadata": {
    "collapsed": false,
    "scrolled": true
   },
   "outputs": [
    {
     "data": {
      "text/html": [
       "<html>\n",
       "<head>\n",
       "     <script src=\"/Users/adun/.julia/v0.4/PlotlyJS/deps/plotly-latest.min.js\"></script>\n",
       "</head>\n",
       "<body>\n",
       "     <div id=\"28086860-860c-4db5-9734-bbc0387c7d68\" class=\"plotly-graph-div\"></div>\n",
       "\n",
       "<script>\n",
       "    window.PLOTLYENV=window.PLOTLYENV || {};\n",
       "    window.PLOTLYENV.BASE_URL=\"https://plot.ly\";\n",
       "    Plotly.newPlot('28086860-860c-4db5-9734-bbc0387c7d68', [{\"yaxis\":\"y\",\"y\":[1.1458980337503146,2.1458980337503144,2.145898033750315,2.1458980337503157,3.1458980337503135,3.1458980337503135,3.145898033750318,3.3819660112501033,3.3819660112501038,3.381966011250105,4.145898033750314,4.381966011250102,4.381966011250103,4.381966011250103,4.381966011250104,4.381966011250105,4.381966011250106,4.381966011250106,4.381966011250106,4.381966011250107,5.3819660112501015,5.381966011250103,5.381966011250103,5.381966011250104,5.381966011250105,5.381966011250106,5.381966011250106,5.381966011250106,5.381966011250106,5.618033988749894,5.618033988749895,5.618033988749896,6.381966011250104,6.381966011250104,6.381966011250106,6.6180339887498905,6.618033988749892,6.618033988749894,6.618033988749894,6.618033988749894,6.618033988749894,6.618033988749896,6.618033988749897,6.6180339887498985,7.618033988749887,7.6180339887498905,7.6180339887498905,7.6180339887498905,7.618033988749892,7.618033988749895,7.618033988749897,7.6180339887498985,7.618033988749902,7.854101966249683,8.618033988749891,8.618033988749897,8.618033988749898,8.854101966249667,8.854101966249678,8.854101966249681,9.854101966249681,9.85410196624969,9.85410196624969],\"showlegend\":true,\"name\":\"Eigs\",\"type\":\"scatter\",\"xaxis\":\"x\",\"line\":{\"width\":1,\"dash\":\"solid\",\"color\":\"rgba(0, 154, 250, 1.000)\",\"shape\":\"linear\"},\"x\":[1,2,3,4,5,6,7,8,9,10,11,12,13,14,15,16,17,18,19,20,21,22,23,24,25,26,27,28,29,30,31,32,33,34,35,36,37,38,39,40,41,42,43,44,45,46,47,48,49,50,51,52,53,54,55,56,57,58,59,60,61,62,63],\"mode\":\"lines\"},{\"yaxis\":\"y\",\"y\":[0.06250000000000001,0.09921256574801249,0.13000523894074403,0.15749013123685918,0.18275110863830415,0.20637045305591417,0.22870660687643574,0.25,0.2704217944326391,0.2900993021007987,0.3091304652030438,0.3275926742761121,0.3455484258549295,0.3630491083477315,0.38013762472333756,0.3968502629920499,0.41321806365362157,0.4292678409574995,0.44502295993137464,0.46050393733004835,0.4757289131887653,0.4907140256587306,0.505473712443129,0.520020955762976,0.5343674833364678,0.5485239347080705,0.5625,0.5763045365073058,0.5899456673370226,0.6034308653785186,0.6167670252011859,0.6299605249474366,0.6430172798813609,0.6559427889360213,0.6687421753531747,0.6814202223120523,0.6939814042866741,0.7064299147450659,0.7187696907018892,0.7310044345532165,0.7431376335545433,0.7551725772475343,0.7671123730950913,0.778959960546219,0.79071812372039,0.8023895028744942,0.8139766047930761,0.8254818122236567,0.8369073924629202,0.8482555051859083,0.8595282095987302,0.870727470985327,0.8818551667102605,0.8929130917321122,0.9039029636756952,0.914826427505743,0.925685059839928,0.9364803729348711,0.9472138183751283,0.9578867904919414,0.968500629535709,0.9790566246236595,0.9895560164820144],\"showlegend\":true,\"name\":\"Theory\",\"type\":\"scatter\",\"xaxis\":\"x\",\"line\":{\"width\":1,\"dash\":\"dash\",\"color\":\"rgba(227, 111, 71, 1.000)\",\"shape\":\"linear\"},\"x\":[1,2,3,4,5,6,7,8,9,10,11,12,13,14,15,16,17,18,19,20,21,22,23,24,25,26,27,28,29,30,31,32,33,34,35,36,37,38,39,40,41,42,43,44,45,46,47,48,49,50,51,52,53,54,55,56,57,58,59,60,61,62,63],\"mode\":\"lines\"}],\n",
       "               {\"yaxis\":{\"type\":\"log\",\"titlefont\":{\"size\":15,\"color\":\"rgba(0, 0, 0, 1.000)\",\"family\":\"Helvetica\"},\"title\":\"eig_i\",\"tickfont\":{\"size\":11,\"color\":\"rgba(0, 0, 0, 1.000)\",\"family\":\"Helvetica\"},\"tickmode\":\"array\",\"showgrid\":true,\"tickvals\":[0.1,0.31622776601683794,1.0,3.1622776601683795],\"domain\":[0.09549978127734039,0.9415463692038496],\"ticktext\":[\"10^-1.0\",\"10^-0.5\",\"10^0.0\",\"10^0.5\"],\"zeroline\":false,\"linecolor\":\"rgba(0, 0, 0, 1.000)\",\"tickcolor\":\"rgba(0, 0, 0, 1.000)\",\"anchor\":\"x\"},\"annotations\":[{\"text\":\"Eigenvalues of H compared with predicted scaling\",\"y\":1.0,\"xref\":\"paper\",\"font\":{\"size\":20,\"color\":\"rgba(0, 0, 0, 1.000)\",\"family\":\"Helvetica\"},\"xanchor\":\"center\",\"x\":0.5389782006415865,\"yref\":\"paper\",\"showarrow\":false,\"yanchor\":\"top\",\"rotation\":0.0}],\"width\":600,\"plot_bgcolor\":\"rgba(255, 255, 255, 1.000)\",\"showlegend\":true,\"legend\":{\"bgcolor\":\"rgba(255, 255, 255, 1.000)\",\"font\":{\"size\":11,\"color\":\"rgba(0, 0, 0, 1.000)\",\"family\":\"Helvetica\"},\"bordercolor\":\"rgba(0, 0, 0, 1.000)\"},\"xaxis\":{\"type\":\"log\",\"titlefont\":{\"size\":15,\"color\":\"rgba(0, 0, 0, 1.000)\",\"family\":\"Helvetica\"},\"title\":\"i\",\"tickfont\":{\"size\":11,\"color\":\"rgba(0, 0, 0, 1.000)\",\"family\":\"Helvetica\"},\"tickmode\":\"array\",\"showgrid\":true,\"tickvals\":[1.0,3.1622776601683795,10.0,31.622776601683793],\"domain\":[0.08451808107319918,0.9934383202099737],\"ticktext\":[\"10^0.0\",\"10^0.5\",\"10^1.0\",\"10^1.5\"],\"zeroline\":false,\"linecolor\":\"rgba(0, 0, 0, 1.000)\",\"tickcolor\":\"rgba(0, 0, 0, 1.000)\",\"anchor\":\"y\"},\"paper_bgcolor\":\"rgba(255, 255, 255, 1.000)\",\"margin\":{\"r\":0,\"l\":0,\"b\":0,\"t\":20},\"height\":400}, {showLink: false});\n",
       "\n",
       " </script>\n",
       "\n",
       "</body>\n",
       "</html>\n"
      ]
     },
     "execution_count": 54,
     "metadata": {},
     "output_type": "execute_result"
    }
   ],
   "source": [
    "M = 4\n",
    "dim = 3;\n",
    "H = brutal_laplacian(M,dim);\n",
    "evals = eigs(H, nev=M^dim-1, which=:SM)[1]\n",
    "\n",
    "ind = collect(1:M^dim -1)\n",
    "evals_theory = (ind/(M^dim)).^(2/dim)\n",
    "\n",
    "# plot([p1,p2])\n",
    "plot(ind, [evals evals_theory],style=:auto, label=[\"Eigs\" \"Theory\"]) \n",
    "yaxis!(\"eig_i\",:log10)\n",
    "xaxis!(\"i\",:log10)\n",
    "title!(\"Eigenvalues of H compared with predicted scaling\")"
   ]
  },
  {
   "cell_type": "code",
   "execution_count": 55,
   "metadata": {
    "collapsed": false
   },
   "outputs": [
    {
     "data": {
      "text/html": [
       "<html>\n",
       "<head>\n",
       "     <script src=\"/Users/adun/.julia/v0.4/PlotlyJS/deps/plotly-latest.min.js\"></script>\n",
       "</head>\n",
       "<body>\n",
       "     <div id=\"c9ddfdf2-f624-4321-a8db-883775cdb44b\" class=\"plotly-graph-div\"></div>\n",
       "\n",
       "<script>\n",
       "    window.PLOTLYENV=window.PLOTLYENV || {};\n",
       "    window.PLOTLYENV.BASE_URL=\"https://plot.ly\";\n",
       "    Plotly.newPlot('c9ddfdf2-f624-4321-a8db-883775cdb44b', [{\"yaxis\":\"y\",\"y\":[0.8726779962499659,0.4660053666447205,0.46600536664472025,0.4660053666447202,0.31787425697579647,0.31787425697579635,0.3178742569757961,0.2956859994078893,0.29568599940788926,0.2956859994078892,0.2412022659166596,0.228208068577583,0.22820806857758272,0.22820806857758263,0.22820806857758263,0.22820806857758263,0.22820806857758258,0.22820806857758258,0.22820806857758244,0.22820806857758244,0.18580570704268054,0.18580570704268046,0.1858057070426804,0.18580570704268037,0.18580570704268037,0.18580570704268037,0.18580570704268035,0.18580570704268035,0.18580570704268035,0.1779982111184266,0.1779982111184266,0.1779982111184265,0.15669152706818001,0.1566915270681799,0.1566915270681797,0.15110227625000378,0.1511022762500037,0.1511022762500037,0.1511022762500037,0.15110227625000364,0.15110227625000364,0.15110227625000364,0.1511022762500036,0.15110227625000355,0.1312674636890271,0.1312674636890271,0.13126746368902698,0.13126746368902698,0.13126746368902698,0.13126746368902695,0.13126746368902692,0.1312674636890269,0.1312674636890269,0.12732200375003508,0.11603574565909287,0.11603574565909287,0.11603574565909279,0.11294200177633239,0.11294200177633235,0.11294200177633223,0.10148058173388122,0.10148058173388118,0.10148058173388114],\"showlegend\":true,\"name\":[\"Covar Eigs\"],\"type\":\"scatter\",\"xaxis\":\"x\",\"line\":{\"width\":1,\"dash\":\"solid\",\"color\":\"rgba(0, 154, 250, 1.000)\",\"shape\":\"linear\"},\"x\":[1,2,3,4,5,6,7,8,9,10,11,12,13,14,15,16,17,18,19,20,21,22,23,24,25,26,27,28,29,30,31,32,33,34,35,36,37,38,39,40,41,42,43,44,45,46,47,48,49,50,51,52,53,54,55,56,57,58,59,60,61,62,63],\"mode\":\"lines\"}],\n",
       "               {\"yaxis\":{\"type\":\"log\",\"titlefont\":{\"size\":15,\"color\":\"rgba(0, 0, 0, 1.000)\",\"family\":\"Helvetica\"},\"title\":\"eig_i\",\"tickfont\":{\"size\":11,\"color\":\"rgba(0, 0, 0, 1.000)\",\"family\":\"Helvetica\"},\"tickmode\":\"array\",\"showgrid\":true,\"tickvals\":[0.17782794100389226,0.31622776601683794,0.5623413251903491],\"domain\":[0.09549978127734039,0.9415463692038496],\"ticktext\":[\"10^-0.75\",\"10^-0.50\",\"10^-0.25\"],\"zeroline\":false,\"linecolor\":\"rgba(0, 0, 0, 1.000)\",\"tickcolor\":\"rgba(0, 0, 0, 1.000)\",\"anchor\":\"x\"},\"annotations\":[{\"text\":\"Spectrum of covariance operator inv(H)\",\"y\":1.0,\"xref\":\"paper\",\"font\":{\"size\":20,\"color\":\"rgba(0, 0, 0, 1.000)\",\"family\":\"Helvetica\"},\"xanchor\":\"center\",\"x\":0.5389782006415865,\"yref\":\"paper\",\"showarrow\":false,\"yanchor\":\"top\",\"rotation\":0.0}],\"width\":600,\"plot_bgcolor\":\"rgba(255, 255, 255, 1.000)\",\"showlegend\":true,\"legend\":{\"bgcolor\":\"rgba(255, 255, 255, 1.000)\",\"font\":{\"size\":11,\"color\":\"rgba(0, 0, 0, 1.000)\",\"family\":\"Helvetica\"},\"bordercolor\":\"rgba(0, 0, 0, 1.000)\"},\"xaxis\":{\"type\":\"log\",\"titlefont\":{\"size\":15,\"color\":\"rgba(0, 0, 0, 1.000)\",\"family\":\"Helvetica\"},\"title\":\"i\",\"tickfont\":{\"size\":11,\"color\":\"rgba(0, 0, 0, 1.000)\",\"family\":\"Helvetica\"},\"tickmode\":\"array\",\"showgrid\":true,\"tickvals\":[1.0,3.1622776601683795,10.0,31.622776601683793],\"domain\":[0.08451808107319918,0.9934383202099737],\"ticktext\":[\"10^0.0\",\"10^0.5\",\"10^1.0\",\"10^1.5\"],\"zeroline\":false,\"linecolor\":\"rgba(0, 0, 0, 1.000)\",\"tickcolor\":\"rgba(0, 0, 0, 1.000)\",\"anchor\":\"y\"},\"paper_bgcolor\":\"rgba(255, 255, 255, 1.000)\",\"margin\":{\"r\":0,\"l\":0,\"b\":0,\"t\":20},\"height\":400}, {showLink: false});\n",
       "\n",
       " </script>\n",
       "\n",
       "</body>\n",
       "</html>\n"
      ]
     },
     "execution_count": 55,
     "metadata": {},
     "output_type": "execute_result"
    }
   ],
   "source": [
    "M = 4\n",
    "dim = 3;\n",
    "L = brutal_laplacian(M,dim);\n",
    "evals = eigs(L, nev=M^dim-1, which=:SM)[1]\n",
    "\n",
    "ind = collect(1:M^dim -1)\n",
    "evals_theory = (ind/(M^dim)).^(2/dim)\n",
    "\n",
    "# plot([p1,p2])\n",
    "plot(ind, 1.0./evals,style=:auto, label=[\"Covar Eigs\"]) \n",
    "yaxis!(\"eig_i\",:log10)\n",
    "xaxis!(\"i\",:log10)\n",
    "title!(\"Spectrum of covariance operator inv(H)\")"
   ]
  },
  {
   "cell_type": "markdown",
   "metadata": {},
   "source": [
    "## MALA Scheme"
   ]
  },
  {
   "cell_type": "markdown",
   "metadata": {},
   "source": [
    "Our objective is to compute $I = \\int f(x)\\mu(dx)$, where $\\mu(dx) \\sim e^{-\\frac{1}{2}x\\cdot H^{-1}x}\\,dx$ and $f(x) = \\frac{1}{2N}x\\cdot H x$.  It is clear that \n",
    "\n",
    "$$I = \\frac{1}{N}\\frac{\\int x\\cdot H x e^{-\\frac{x \\cdot H x}{2}}\\,dx}{\\int e^{-\\frac{x \\cdot H x}{2}}\\,dx} = \\frac{1}{2}.$$\n",
    "\n",
    "Moreover, the stationary variance is \n",
    "$$\\frac{1}{4N^2} \\frac{\\int (x\\cdot H x) (x\\cdot H x) e^{-\\frac{x \\cdot H x}{2}}\\,dx}{\\int e^{-\\frac{x \\cdot H x}{2}}\\,dx}  - \\frac{1}{4} =  \\frac{1}{2N}.$$ \n",
    "\n",
    "To do so we use a preconditioned Metropolis-Adjusted Langevin scheme (P-MALA), where $P$ is an appropriate preconditioning matrix.  Given the current state $x_n$ the following state is proposed:\n",
    "$$\n",
    "    y = x_n - P^{-1}\\nabla E_N(x_n)\\delta + \\sqrt{2\\delta}P^{-1/2}\\xi_n,\\quad \\xi_n \\sim \\mathcal{N}(0, I),\n",
    "$$\n",
    "which is accepted with probability\n",
    "$$\n",
    "    \\alpha(y, x_n) = \\mbox{max}\\left(1, \\frac{\\mu(y)q(x_n | y)}{\\mu(x)q(y | x_n)}\\right),\n",
    "$$\n",
    "where $q(dy | x) \\sim \\mathcal{N}(dy; x - \\delta P^{-1}\\nabla E_n(x), 2\\delta P^{-1})$.  When $P = I$ the scheme reduces to the standard MALA scheme.\n",
    "\n",
    "We shall consider the cases when $P=I$ (and scheme reduces to MALA) versus the case $P= H$."
   ]
  },
  {
   "cell_type": "code",
   "execution_count": 8,
   "metadata": {
    "collapsed": false
   },
   "outputs": [],
   "source": [
    "@everywhere function timestepPMALA(x0::Array{Float64, 1}, P::SparseMatrixCSC{Float64,Int64}, \n",
    "                                   numsteps::Int64, latticeSize::Int64, \n",
    "                                   dim::Int64, delta::Float64; prec=true)\n",
    "    num_acc = 0\n",
    "    effDim = latticeSize^dim\n",
    "    \n",
    "    state = zeros(effDim, numsteps)\n",
    "    state[:, 1] = x0\n",
    "        \n",
    "    V, gradV = generatePotentialFunctions(P)\n",
    "    \n",
    "    if !prec\n",
    "        P = speye(effDim)\n",
    "    end\n",
    "    Pfact = cholfact(full(P))\n",
    "    \n",
    "    Vx = V(x0)\n",
    "    driftx = Pfact\\gradV(x0)\n",
    "    \n",
    "    @inbounds @fastmath for n=1:numsteps-1\n",
    "        x = state[:, n]\n",
    "        \n",
    "        noise = Pfact[:U]\\randn(effDim)\n",
    "        y = x - driftx*delta + sqrt(2*delta)*noise\n",
    "        \n",
    "        r = y - (x - delta*driftx)\n",
    "        lyx = dot(r, P*r)/(4*delta)\n",
    "                \n",
    "        drifty = Pfact\\gradV(y)\n",
    "        Vy = V(y)\n",
    "        r = x - (y - delta*drifty)\n",
    "        lxy = dot(r, P*r)/(4*delta)\n",
    "        \n",
    "        if -log(rand()) > V(y) - V(x) + lxy - lyx\n",
    "            x = y\n",
    "            num_acc += 1\n",
    "            Vx = Vy\n",
    "            driftx = drifty\n",
    "        end \n",
    "        \n",
    "        state[:,n+1] = x\n",
    "    end\n",
    "    \n",
    "    return state, num_acc/numsteps\n",
    "end"
   ]
  },
  {
   "cell_type": "markdown",
   "metadata": {},
   "source": [
    "Since we consider a quadratic potential we can sample from the invariant distribution $\\mu(dx)$ directly, using the following function:"
   ]
  },
  {
   "cell_type": "code",
   "execution_count": 9,
   "metadata": {
    "collapsed": false
   },
   "outputs": [],
   "source": [
    "@everywhere function sampleStatDist(Hinv::Array{Float64,2})\n",
    "    return rand(MvNormal(Hinv))\n",
    "end"
   ]
  },
  {
   "cell_type": "markdown",
   "metadata": {},
   "source": [
    "The following function generates a timeseries using P-MALA and applies the function $f(x) = \\frac{1}{N}\\frac{1}{2}x\\cdot H x$, starting from stationarity."
   ]
  },
  {
   "cell_type": "code",
   "execution_count": 10,
   "metadata": {
    "collapsed": true
   },
   "outputs": [],
   "source": [
    "@everywhere function estfun(M::Int64, dim::Int64, H::AbstractSparseMatrix, Hinv, numsteps::Int64,  delta::Float64, prec::Bool)\n",
    "   # println(\"M = $M, dim = $dim, numsteps = $numsteps, delta = $delta\")\n",
    "    x0 = sampleStatDist(Hinv)\n",
    "    x_trace, acc_rate=  timestepPMALA(x0, H, numsteps, M, dim, delta; prec=prec);\n",
    "    \n",
    "    V,_ = generatePotentialFunctions(H);\n",
    "\n",
    "    return vec(mapslices(V, x_trace, 1)/(M^dim))\n",
    "end\n"
   ]
  },
  {
   "cell_type": "markdown",
   "metadata": {},
   "source": [
    "The following function implements a basic grid search approach to tuning step-size based on Effective Sample Size.  This is not a very robust approach."
   ]
  },
  {
   "cell_type": "code",
   "execution_count": 31,
   "metadata": {
    "collapsed": false,
    "scrolled": false
   },
   "outputs": [
    {
     "data": {
      "text/plain": [
       "tune_stepsize (generic function with 1 method)"
      ]
     },
     "execution_count": 31,
     "metadata": {},
     "output_type": "execute_result"
    }
   ],
   "source": [
    "function tune_stepsize(dim::Int64, numsteps::Int64, prec::Bool, deltas, Ms)\n",
    "    delta_opt = zeros(length(Ms))\n",
    "\n",
    "    for (i, M) in enumerate(Ms)\n",
    "        H = brutal_laplacian(M, dim);\n",
    "        Hinv= inv(full(H))\n",
    "        ess_vs_delta = Array{Float64,1}([ess(estfun(M, dim, H, Hinv, numsteps,  delta, prec)) for delta in deltas])\n",
    "        ess_vs_delta[ess_vs_delta.==Inf]=0\n",
    "        ess_max, index = findmax(ess_vs_delta);\n",
    "        delta_max = deltas[index];\n",
    "        delta_opt[i] = delta_max\n",
    "        println(\"[Tuning] M = $M : $ess_max, $index, $delta_max\")\n",
    "    end\n",
    "    \n",
    "    return delta_opt\n",
    "end"
   ]
  },
  {
   "cell_type": "markdown",
   "metadata": {},
   "source": [
    "Given a sequence of lattice sizes $M$ and optimal time-step sizes, computes variance and MSE of runs for $N_{runs}$ independent realisations of $Numsteps$ step chains starting from the invariant measure."
   ]
  },
  {
   "cell_type": "code",
   "execution_count": 32,
   "metadata": {
    "collapsed": false
   },
   "outputs": [
    {
     "data": {
      "text/plain": [
       "compute_trace_stats (generic function with 2 methods)"
      ]
     },
     "execution_count": 32,
     "metadata": {},
     "output_type": "execute_result"
    }
   ],
   "source": [
    "function compute_trace_stats(Ms, delta_opts, Nruns, Numsteps, prec)\n",
    "    vars = zeros(length(Ms))\n",
    "    mses = zeros(length(Ms))\n",
    "\n",
    "    for (i, M) in enumerate(Ms)\n",
    "        delta = delta_opts[i]\n",
    "        H = brutal_laplacian(M, dim);\n",
    "        Hinv = inv(full(H))\n",
    "        runs = Array{Float64}([mean(estfun(M, dim, H, Hinv, numsteps,  delta, prec)) for j in 1:Nruns])\n",
    "        vars[i] = var(runs)\n",
    "        mses[i] = mean((runs-0.5).^2)\n",
    "        println(\"[Computing Stats] M = $M,  : Var = \", vars[i], \" MSE = \", mses[i])\n",
    "    end\n",
    "    \n",
    "    return vars, mses\n",
    "end"
   ]
  },
  {
   "cell_type": "markdown",
   "metadata": {},
   "source": [
    "# Variance and MSE computations"
   ]
  },
  {
   "cell_type": "markdown",
   "metadata": {},
   "source": [
    "In this section we compare the variance and MSE for the preconditioned MALA with $P = H$ to the standard MALA approach, where $P = I$.  We compare in terms of dimension $d$ and lattice size $M$."
   ]
  },
  {
   "cell_type": "code",
   "execution_count": 33,
   "metadata": {
    "collapsed": false
   },
   "outputs": [],
   "source": [
    "deltaP = 0.01:0.1:0.6\n",
    "deltaU = 0.01:0.01:0.1\n",
    "\n",
    "numsteps=10000\n",
    "Nruns = 100\n",
    "Ms = [2, 4, 6, 8, 10];"
   ]
  },
  {
   "cell_type": "markdown",
   "metadata": {},
   "source": [
    "## One dimension"
   ]
  },
  {
   "cell_type": "code",
   "execution_count": 34,
   "metadata": {
    "collapsed": false
   },
   "outputs": [
    {
     "name": "stdout",
     "output_type": "stream",
     "text": [
      "[Tuning] M = 2 : 4577.702290530713, 6, 0.51\n",
      "[Tuning] M = 4 : 4559.320115130788, 5, 0.41000000000000003\n",
      "[Tuning] M = 6 : 3831.5374912697944, 5, 0.41000000000000003\n",
      "[Tuning] M = 8 : 4048.9541724107294, 5, 0.41000000000000003\n",
      "[Tuning] M = 10 : 3531.8262659131033, 6, 0.51\n",
      "[Computing Stats] M = 2,  : Var = 4.743683410455971e-5 MSE = 4.811596763744414e-5\n",
      "[Computing Stats] M = 4,  : Var = 3.243453956428163e-5 MSE = 3.2142597218578585e-5\n",
      "[Computing Stats] M = 6,  : Var = 2.2150109054378778e-5 MSE = 2.211468713091029e-5\n",
      "[Computing Stats] M = 8,  : Var = 1.3318615064556813e-5 MSE = 1.3218430194525664e-5\n",
      "[Computing Stats] M = 10,  : Var = 1.6865991292615293e-5 MSE = 1.6698749104207276e-5\n",
      "[Tuning] M = 2 : 1969.1958645456914, 9, 0.09\n",
      "[Tuning] M = 4 : 1318.0629763604857, 8, 0.08\n",
      "[Tuning] M = 6 : 960.1930185932819, 10, 0.1\n",
      "[Tuning] M = 8 : 1137.48106486452, 10, 0.1\n",
      "[Tuning] M = 10 : 948.1923360561749, 8, 0.08\n",
      "[Computing Stats] M = 2,  : Var = 0.00018590134696824809 MSE = 0.00018407556468046936\n",
      "[Computing Stats] M = 4,  : Var = 0.00016794681614442405 MSE = 0.00017160006965613727\n",
      "[Computing Stats] M = 6,  : Var = 0.00011656574439771048 MSE = 0.00011737532216309884\n",
      "[Computing Stats] M = 8,  : Var = 7.588424663645946e-5 MSE = 7.51280412090864e-5\n",
      "[Computing Stats] M = 10,  : Var = 0.00014546207608090412 MSE = 0.0001451296001389882\n"
     ]
    }
   ],
   "source": [
    "dim=1\n",
    "\n",
    "#Preconditioned \n",
    "delta_opts = tune_stepsize(dim, numsteps, true, deltaP, Ms);\n",
    "vars1_pmala, mses1_pmala = compute_trace_stats(Ms, delta_opts, Nruns, numsteps, true);\n",
    "\n",
    "#NonPreconditioned \n",
    "delta_opts = tune_stepsize(dim, numsteps, false, deltaU, Ms);\n",
    "vars1_mala, mses1_mala = compute_trace_stats(Ms, delta_opts, Nruns, numsteps, false);\n"
   ]
  },
  {
   "cell_type": "markdown",
   "metadata": {},
   "source": [
    "Plotting the results here"
   ]
  },
  {
   "cell_type": "code",
   "execution_count": 51,
   "metadata": {
    "collapsed": false
   },
   "outputs": [
    {
     "data": {
      "text/html": [
       "<html>\n",
       "<head>\n",
       "     <script src=\"/Users/adun/.julia/v0.4/PlotlyJS/deps/plotly-latest.min.js\"></script>\n",
       "</head>\n",
       "<body>\n",
       "     <div id=\"e9e99c2b-4e2d-40fc-a32e-208fc763ad05\" class=\"plotly-graph-div\"></div>\n",
       "\n",
       "<script>\n",
       "    window.PLOTLYENV=window.PLOTLYENV || {};\n",
       "    window.PLOTLYENV.BASE_URL=\"https://plot.ly\";\n",
       "    Plotly.newPlot('e9e99c2b-4e2d-40fc-a32e-208fc763ad05', [{\"yaxis\":\"y\",\"y\":[4.743683410455971e-5,3.243453956428163e-5,2.2150109054378778e-5,1.3318615064556813e-5,1.6865991292615293e-5],\"showlegend\":true,\"name\":\"P-MALA\",\"type\":\"scatter\",\"xaxis\":\"x\",\"line\":{\"width\":1,\"dash\":\"solid\",\"color\":\"rgba(0, 154, 250, 1.000)\",\"shape\":\"linear\"},\"x\":[2,4,6,8,10],\"mode\":\"lines\"},{\"yaxis\":\"y\",\"y\":[0.00018590134696824809,0.00016794681614442405,0.00011656574439771048,7.588424663645946e-5,0.00014546207608090412],\"showlegend\":true,\"name\":\"MALA\",\"type\":\"scatter\",\"xaxis\":\"x\",\"line\":{\"width\":1,\"dash\":\"dash\",\"color\":\"rgba(227, 111, 71, 1.000)\",\"shape\":\"linear\"},\"x\":[2,4,6,8,10],\"mode\":\"lines\"}],\n",
       "               {\"yaxis\":{\"type\":\"log\",\"titlefont\":{\"size\":15,\"color\":\"rgba(0, 0, 0, 1.000)\",\"family\":\"Helvetica\"},\"title\":\"Var\",\"tickfont\":{\"size\":11,\"color\":\"rgba(0, 0, 0, 1.000)\",\"family\":\"Helvetica\"},\"tickmode\":\"array\",\"showgrid\":true,\"tickvals\":[3.1622776601683795e-5,0.0001],\"domain\":[0.09549978127734039,0.9415463692038496],\"ticktext\":[\"10^-4.5\",\"10^-4.0\"],\"zeroline\":false,\"linecolor\":\"rgba(0, 0, 0, 1.000)\",\"tickcolor\":\"rgba(0, 0, 0, 1.000)\",\"anchor\":\"x\"},\"annotations\":[{\"text\":\"Variance for N=10000 timesteps for d =3\",\"y\":1.0,\"xref\":\"paper\",\"font\":{\"size\":20,\"color\":\"rgba(0, 0, 0, 1.000)\",\"family\":\"Helvetica\"},\"xanchor\":\"center\",\"x\":0.5389782006415865,\"yref\":\"paper\",\"showarrow\":false,\"yanchor\":\"top\",\"rotation\":0.0}],\"width\":600,\"plot_bgcolor\":\"rgba(255, 255, 255, 1.000)\",\"showlegend\":true,\"legend\":{\"bgcolor\":\"rgba(255, 255, 255, 1.000)\",\"font\":{\"size\":11,\"color\":\"rgba(0, 0, 0, 1.000)\",\"family\":\"Helvetica\"},\"bordercolor\":\"rgba(0, 0, 0, 1.000)\"},\"xaxis\":{\"type\":\"log\",\"titlefont\":{\"size\":15,\"color\":\"rgba(0, 0, 0, 1.000)\",\"family\":\"Helvetica\"},\"title\":\"M\",\"tickfont\":{\"size\":11,\"color\":\"rgba(0, 0, 0, 1.000)\",\"family\":\"Helvetica\"},\"tickmode\":\"array\",\"showgrid\":true,\"tickvals\":[3.1622776601683795,5.623413251903491,10.0],\"domain\":[0.08451808107319918,0.9934383202099737],\"ticktext\":[\"10^0.50\",\"10^0.75\",\"10^1.00\"],\"zeroline\":false,\"linecolor\":\"rgba(0, 0, 0, 1.000)\",\"tickcolor\":\"rgba(0, 0, 0, 1.000)\",\"anchor\":\"y\"},\"paper_bgcolor\":\"rgba(255, 255, 255, 1.000)\",\"margin\":{\"r\":0,\"l\":0,\"b\":0,\"t\":20},\"height\":400}, {showLink: false});\n",
       "\n",
       " </script>\n",
       "\n",
       "</body>\n",
       "</html>\n"
      ]
     },
     "execution_count": 51,
     "metadata": {},
     "output_type": "execute_result"
    }
   ],
   "source": [
    "plot(Ms, [vars1_pmala vars1_mala],style=:auto, label=[\"P-MALA\" \"MALA\"]) \n",
    "yaxis!(\"Var\",:log10)\n",
    "xaxis!(\"M\",:log10)\n",
    "title!(\"Variance for N=$numsteps timesteps for d =$dim\")"
   ]
  },
  {
   "cell_type": "markdown",
   "metadata": {},
   "source": [
    "## Two dimensions"
   ]
  },
  {
   "cell_type": "code",
   "execution_count": 36,
   "metadata": {
    "collapsed": false
   },
   "outputs": [
    {
     "name": "stdout",
     "output_type": "stream",
     "text": [
      "[Tuning] M = 2 : 3929.2406216215322, 6, 0.51\n",
      "[Tuning] M = 4 : 2524.184110351526, 5, 0.41000000000000003\n",
      "[Tuning] M = 6 : 2247.443491070385, 4, 0.31000000000000005\n",
      "[Tuning] M = 8 : 1769.3462423577384, 3, 0.21000000000000002\n",
      "[Tuning] M = 10 : 1170.2639508430175, 3, 0.21000000000000002\n",
      "[Computing Stats] M = 2,  : Var = 2.9057354916827298e-5 MSE = 2.8768233666509867e-5\n",
      "[Computing Stats] M = 4,  : Var = 1.2971929534270575e-5 MSE = 1.3490048276055152e-5\n",
      "[Computing Stats] M = 6,  : Var = 5.971520219300189e-6 MSE = 6.028778937112851e-6\n",
      "[Computing Stats] M = 8,  : Var = 6.05693778376e-6 MSE = 6.087699184131924e-6\n",
      "[Computing Stats] M = 10,  : Var = 4.343361770190897e-6 MSE = 4.299956273872559e-6\n",
      "[Tuning] M = 2 : 4855.210168210832, 10, 0.1\n",
      "[Tuning] M = 4 : 2305.702219328806, 8, 0.08\n",
      "[Tuning] M = 6 : 1262.0146899895285, 6, 0.06\n",
      "[Tuning] M = 8 : 1023.9607391751476, 7, 0.07\n",
      "[Tuning] M = 10 : 999.4045455955932, 5, 0.05\n",
      "[Computing Stats] M = 2,  : Var = 3.86083227721067e-5 MSE = 4.275419481886445e-5\n",
      "[Computing Stats] M = 4,  : Var = 1.5510769989824246e-5 MSE = 1.546419625139549e-5\n",
      "[Computing Stats] M = 6,  : Var = 1.0871067317431157e-5 MSE = 1.0900115538908848e-5\n",
      "[Computing Stats] M = 8,  : Var = 9.421266008567971e-6 MSE = 9.386667087429378e-6\n",
      "[Computing Stats] M = 10,  : Var = 6.410221497251214e-6 MSE = 6.346119324012321e-6\n"
     ]
    }
   ],
   "source": [
    "dim=2\n",
    "\n",
    "#Preconditioned \n",
    "delta_opts = tune_stepsize(dim, numsteps, true, deltaP, Ms);\n",
    "vars2_pmala, mses2_pmala = compute_trace_stats(Ms, delta_opts, Nruns, numsteps, true);\n",
    "\n",
    "#NonPreconditioned \n",
    "delta_opts = tune_stepsize(dim, numsteps, false, deltaU, Ms);\n",
    "vars2_mala, mses2_mala = compute_trace_stats(Ms, delta_opts, Nruns, numsteps, false);\n"
   ]
  },
  {
   "cell_type": "code",
   "execution_count": 50,
   "metadata": {
    "collapsed": false,
    "scrolled": true
   },
   "outputs": [
    {
     "data": {
      "text/html": [
       "<html>\n",
       "<head>\n",
       "     <script src=\"/Users/adun/.julia/v0.4/PlotlyJS/deps/plotly-latest.min.js\"></script>\n",
       "</head>\n",
       "<body>\n",
       "     <div id=\"818653bc-325a-45ac-bf16-ecd9edb9ca4f\" class=\"plotly-graph-div\"></div>\n",
       "\n",
       "<script>\n",
       "    window.PLOTLYENV=window.PLOTLYENV || {};\n",
       "    window.PLOTLYENV.BASE_URL=\"https://plot.ly\";\n",
       "    Plotly.newPlot('818653bc-325a-45ac-bf16-ecd9edb9ca4f', [{\"yaxis\":\"y\",\"y\":[2.9057354916827298e-5,1.2971929534270575e-5,5.971520219300189e-6,6.05693778376e-6,4.343361770190897e-6],\"showlegend\":true,\"name\":\"P-MALA\",\"type\":\"scatter\",\"xaxis\":\"x\",\"line\":{\"width\":1,\"dash\":\"solid\",\"color\":\"rgba(0, 154, 250, 1.000)\",\"shape\":\"linear\"},\"x\":[2,4,6,8,10],\"mode\":\"lines\"},{\"yaxis\":\"y\",\"y\":[3.86083227721067e-5,1.5510769989824246e-5,1.0871067317431157e-5,9.421266008567971e-6,6.410221497251214e-6],\"showlegend\":true,\"name\":\"MALA\",\"type\":\"scatter\",\"xaxis\":\"x\",\"line\":{\"width\":1,\"dash\":\"dash\",\"color\":\"rgba(227, 111, 71, 1.000)\",\"shape\":\"linear\"},\"x\":[2,4,6,8,10],\"mode\":\"lines\"}],\n",
       "               {\"yaxis\":{\"type\":\"log\",\"titlefont\":{\"size\":15,\"color\":\"rgba(0, 0, 0, 1.000)\",\"family\":\"Helvetica\"},\"title\":\"Var\",\"tickfont\":{\"size\":11,\"color\":\"rgba(0, 0, 0, 1.000)\",\"family\":\"Helvetica\"},\"tickmode\":\"array\",\"showgrid\":true,\"tickvals\":[6.30957344480193e-6,9.999999999999999e-6,1.5848931924611107e-5,2.511886431509577e-5],\"domain\":[0.09549978127734039,0.9415463692038496],\"ticktext\":[\"10^-5.2\",\"10^-5.0\",\"10^-4.8\",\"10^-4.6\"],\"zeroline\":false,\"linecolor\":\"rgba(0, 0, 0, 1.000)\",\"tickcolor\":\"rgba(0, 0, 0, 1.000)\",\"anchor\":\"x\"},\"annotations\":[{\"text\":\"Variance for N=10000 timesteps for d =3\",\"y\":1.0,\"xref\":\"paper\",\"font\":{\"size\":20,\"color\":\"rgba(0, 0, 0, 1.000)\",\"family\":\"Helvetica\"},\"xanchor\":\"center\",\"x\":0.5389782006415865,\"yref\":\"paper\",\"showarrow\":false,\"yanchor\":\"top\",\"rotation\":0.0}],\"width\":600,\"plot_bgcolor\":\"rgba(255, 255, 255, 1.000)\",\"showlegend\":true,\"legend\":{\"bgcolor\":\"rgba(255, 255, 255, 1.000)\",\"font\":{\"size\":11,\"color\":\"rgba(0, 0, 0, 1.000)\",\"family\":\"Helvetica\"},\"bordercolor\":\"rgba(0, 0, 0, 1.000)\"},\"xaxis\":{\"type\":\"log\",\"titlefont\":{\"size\":15,\"color\":\"rgba(0, 0, 0, 1.000)\",\"family\":\"Helvetica\"},\"title\":\"M\",\"tickfont\":{\"size\":11,\"color\":\"rgba(0, 0, 0, 1.000)\",\"family\":\"Helvetica\"},\"tickmode\":\"array\",\"showgrid\":true,\"tickvals\":[3.1622776601683795,5.623413251903491,10.0],\"domain\":[0.08451808107319918,0.9934383202099737],\"ticktext\":[\"10^0.50\",\"10^0.75\",\"10^1.00\"],\"zeroline\":false,\"linecolor\":\"rgba(0, 0, 0, 1.000)\",\"tickcolor\":\"rgba(0, 0, 0, 1.000)\",\"anchor\":\"y\"},\"paper_bgcolor\":\"rgba(255, 255, 255, 1.000)\",\"margin\":{\"r\":0,\"l\":0,\"b\":0,\"t\":20},\"height\":400}, {showLink: false});\n",
       "\n",
       " </script>\n",
       "\n",
       "</body>\n",
       "</html>\n"
      ]
     },
     "execution_count": 50,
     "metadata": {},
     "output_type": "execute_result"
    }
   ],
   "source": [
    "plot(Ms, [vars2_pmala vars2_mala],style=:auto, label=[\"P-MALA\" \"MALA\"]) \n",
    "yaxis!(\"Var\",:log10)\n",
    "xaxis!(\"M\",:log10)\n",
    "title!(\"Variance for N=$numsteps timesteps for d =$dim\")"
   ]
  },
  {
   "cell_type": "markdown",
   "metadata": {},
   "source": [
    "## Three dimensions"
   ]
  },
  {
   "cell_type": "code",
   "execution_count": 38,
   "metadata": {
    "collapsed": false
   },
   "outputs": [
    {
     "name": "stdout",
     "output_type": "stream",
     "text": [
      "[Tuning] M = 2 : 4429.815581634926, 6, 0.51\n",
      "[Tuning] M = 4 : 1712.945444633848, 3, 0.21000000000000002\n",
      "[Tuning] M = 6 : 1031.8445868367066, 3, 0.21000000000000002\n",
      "[Tuning] M = 8 : 621.730146692421, 2, 0.11\n",
      "[Tuning] M = 10 : 891.089108910891, 6, 0.51\n",
      "[Computing Stats] M = 2,  : Var = 1.9041155692764443e-5 MSE = 1.894347047590746e-5\n",
      "[Computing Stats] M = 4,  : Var = 5.403423953182649e-6 MSE = 5.388428018946792e-6\n",
      "[Computing Stats] M = 6,  : Var = 2.975427378368099e-6 MSE = 2.968678359033218e-6\n",
      "[Computing Stats] M = 8,  : Var = 1.1484964877000937e-6 MSE = 1.1696908211731702e-6\n",
      "[Computing Stats] M = 10,  : Var = 0.000516977828963673 MSE = 0.0005119184142096743\n",
      "[Tuning] M = 2 : 3306.608542208796, 9, 0.09\n",
      "[Tuning] M = 4 : 1254.860122701526, 5, 0.05\n",
      "[Tuning] M = 6 : 755.0163993850376, 2, 0.02\n",
      "[Tuning] M = 8 : 1212.8712871287128, 8, 0.08\n",
      "[Tuning] M = 10 : 542.4847629746399, 2, 0.02\n",
      "[Computing Stats] M = 2,  : Var = 2.3927449598684965e-5 MSE = 2.4008911968531133e-5\n",
      "[Computing Stats] M = 4,  : Var = 4.837965739814838e-6 MSE = 5.168685415491657e-6\n",
      "[Computing Stats] M = 6,  : Var = 3.1977667907225654e-6 MSE = 3.264087933772978e-6\n",
      "[Computing Stats] M = 8,  : Var = 0.000922274954562757 MSE = 0.0009132611265784106\n",
      "[Computing Stats] M = 10,  : Var = 1.3566551234868131e-6 MSE = 1.3432618583925282e-6\n"
     ]
    }
   ],
   "source": [
    "dim=3\n",
    "\n",
    "#Preconditioned \n",
    "delta_opts = tune_stepsize(dim, numsteps, true, deltaP, Ms);\n",
    "vars3_pmala, mses3_pmala = compute_trace_stats(Ms, delta_opts, Nruns, numsteps, true);\n",
    "\n",
    "#NonPreconditioned \n",
    "delta_opts = tune_stepsize(dim, numsteps, false, deltaU, Ms);\n",
    "vars3_mala, mses3_mala = compute_trace_stats(Ms, delta_opts, Nruns, numsteps, false);"
   ]
  },
  {
   "cell_type": "code",
   "execution_count": 49,
   "metadata": {
    "collapsed": false
   },
   "outputs": [
    {
     "data": {
      "text/html": [
       "<html>\n",
       "<head>\n",
       "     <script src=\"/Users/adun/.julia/v0.4/PlotlyJS/deps/plotly-latest.min.js\"></script>\n",
       "</head>\n",
       "<body>\n",
       "     <div id=\"99301778-6556-4fce-a79f-fae7a3942af9\" class=\"plotly-graph-div\"></div>\n",
       "\n",
       "<script>\n",
       "    window.PLOTLYENV=window.PLOTLYENV || {};\n",
       "    window.PLOTLYENV.BASE_URL=\"https://plot.ly\";\n",
       "    Plotly.newPlot('99301778-6556-4fce-a79f-fae7a3942af9', [{\"yaxis\":\"y\",\"y\":[1.9041155692764443e-5,5.403423953182649e-6,2.975427378368099e-6,1.1484964877000937e-6,0.000516977828963673],\"showlegend\":true,\"name\":\"P-MALA\",\"type\":\"scatter\",\"xaxis\":\"x\",\"line\":{\"width\":1,\"dash\":\"solid\",\"color\":\"rgba(0, 154, 250, 1.000)\",\"shape\":\"linear\"},\"x\":[2,4,6,8,10],\"mode\":\"lines\"},{\"yaxis\":\"y\",\"y\":[2.3927449598684965e-5,4.837965739814838e-6,3.1977667907225654e-6,0.000922274954562757,1.3566551234868131e-6],\"showlegend\":true,\"name\":\"MALA\",\"type\":\"scatter\",\"xaxis\":\"x\",\"line\":{\"width\":1,\"dash\":\"dash\",\"color\":\"rgba(227, 111, 71, 1.000)\",\"shape\":\"linear\"},\"x\":[2,4,6,8,10],\"mode\":\"lines\"}],\n",
       "               {\"yaxis\":{\"type\":\"log\",\"titlefont\":{\"size\":15,\"color\":\"rgba(0, 0, 0, 1.000)\",\"family\":\"Helvetica\"},\"title\":\"Var\",\"tickfont\":{\"size\":11,\"color\":\"rgba(0, 0, 0, 1.000)\",\"family\":\"Helvetica\"},\"tickmode\":\"array\",\"showgrid\":true,\"tickvals\":[9.999999999999999e-6,0.0001],\"domain\":[0.09549978127734039,0.9415463692038496],\"ticktext\":[\"10^-5\",\"10^-4\"],\"zeroline\":false,\"linecolor\":\"rgba(0, 0, 0, 1.000)\",\"tickcolor\":\"rgba(0, 0, 0, 1.000)\",\"anchor\":\"x\"},\"annotations\":[{\"text\":\"Variance for N=10000 timesteps for d =3\",\"y\":1.0,\"xref\":\"paper\",\"font\":{\"size\":20,\"color\":\"rgba(0, 0, 0, 1.000)\",\"family\":\"Helvetica\"},\"xanchor\":\"center\",\"x\":0.5389782006415865,\"yref\":\"paper\",\"showarrow\":false,\"yanchor\":\"top\",\"rotation\":0.0}],\"width\":600,\"plot_bgcolor\":\"rgba(255, 255, 255, 1.000)\",\"showlegend\":true,\"legend\":{\"bgcolor\":\"rgba(255, 255, 255, 1.000)\",\"font\":{\"size\":11,\"color\":\"rgba(0, 0, 0, 1.000)\",\"family\":\"Helvetica\"},\"bordercolor\":\"rgba(0, 0, 0, 1.000)\"},\"xaxis\":{\"type\":\"log\",\"titlefont\":{\"size\":15,\"color\":\"rgba(0, 0, 0, 1.000)\",\"family\":\"Helvetica\"},\"title\":\"M\",\"tickfont\":{\"size\":11,\"color\":\"rgba(0, 0, 0, 1.000)\",\"family\":\"Helvetica\"},\"tickmode\":\"array\",\"showgrid\":true,\"tickvals\":[3.1622776601683795,5.623413251903491,10.0],\"domain\":[0.08451808107319918,0.9934383202099737],\"ticktext\":[\"10^0.50\",\"10^0.75\",\"10^1.00\"],\"zeroline\":false,\"linecolor\":\"rgba(0, 0, 0, 1.000)\",\"tickcolor\":\"rgba(0, 0, 0, 1.000)\",\"anchor\":\"y\"},\"paper_bgcolor\":\"rgba(255, 255, 255, 1.000)\",\"margin\":{\"r\":0,\"l\":0,\"b\":0,\"t\":20},\"height\":400}, {showLink: false});\n",
       "\n",
       " </script>\n",
       "\n",
       "</body>\n",
       "</html>\n"
      ]
     },
     "execution_count": 49,
     "metadata": {},
     "output_type": "execute_result"
    }
   ],
   "source": [
    "plot(Ms, [vars3_pmala vars3_mala],style=:auto, label=[\"P-MALA\" \"MALA\"]) \n",
    "yaxis!(\"Var\",:log10)\n",
    "xaxis!(\"M\",:log10)\n",
    "title!(\"Variance for N=$numsteps timesteps for d =$dim\")"
   ]
  },
  {
   "cell_type": "markdown",
   "metadata": {},
   "source": [
    "I would not read too much into the last two data points, most likely poor choice of tuning parameter."
   ]
  }
 ],
 "metadata": {
  "anaconda-cloud": {},
  "kernelspec": {
   "display_name": "Julia 0.4.6",
   "language": "julia",
   "name": "julia-0.4"
  },
  "language_info": {
   "file_extension": ".jl",
   "mimetype": "application/julia",
   "name": "julia",
   "version": "0.4.6"
  }
 },
 "nbformat": 4,
 "nbformat_minor": 1
}
